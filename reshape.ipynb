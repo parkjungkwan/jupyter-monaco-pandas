{
 "cells": [
  {
   "cell_type": "code",
   "execution_count": 3,
   "metadata": {
    "collapsed": true
   },
   "outputs": [
    {
     "data": {
      "text/plain": "'\\n - (1) pivot(), pd.pivot_table()\\n\\n - (2) stack(), unstack()\\n\\n - (3) melt()\\n\\n - (4) wide_to_long()\\n\\n - (5) pd.crosstab()\\n\\n'"
     },
     "execution_count": 3,
     "metadata": {},
     "output_type": "execute_result"
    }
   ],
   "source": [
    "import pandas as pd\n",
    "import numpy as np\n",
    "from icecream import ic\n",
    "'''\n",
    " - (1) pivot()\n",
    " 90도 회전(rotation)\n",
    " 컬럼 -> 인덱스로 변환\n",
    "\n",
    " - (2) stack(), unstack()\n",
    " stack이 (위에서 아래로 길게, 높게) 쌓는 것이면,\n",
    " unstack은 쌓은 것을 옆으로 늘어놓는것(왼쪽에서 오른쪽으로 넓게) 라고 연상이 될 것입니다.\n",
    "\n",
    "\n",
    "\n",
    " - (3) melt()\n",
    "\n",
    " - (4) wide_to_long()\n",
    "\n",
    " - (5) pd.crosstab()\n",
    "\n",
    "'''"
   ]
  },
  {
   "cell_type": "code",
   "execution_count": 6,
   "outputs": [
    {
     "name": "stderr",
     "output_type": "stream",
     "text": [
      "ic| df:   customer_id product_code grade  purchase_amount\n",
      "        0         kim          com     A               30\n",
      "        1         lee        phone     A               10\n",
      "        2        park           tv     A                0\n",
      "        3        song          com     A               40\n",
      "        4        yoon        phone     A               15\n",
      "        5        kang           tv     A               30\n",
      "        6         tak          com     B                0\n",
      "        7         ryu        phone     B                0\n",
      "        8        jang           tv     B               10\n"
     ]
    },
    {
     "name": "stdout",
     "output_type": "stream",
     "text": [
      "product_code   com  phone    tv\n",
      "customer_id                    \n",
      "jang           NaN    NaN  10.0\n",
      "kang           NaN    NaN  30.0\n",
      "kim           30.0    NaN   NaN\n",
      "lee            NaN   10.0   NaN\n",
      "park           NaN    NaN   0.0\n",
      "ryu            NaN    0.0   NaN\n",
      "song          40.0    NaN   NaN\n",
      "tak            0.0    NaN   NaN\n",
      "yoon           NaN   15.0   NaN\n"
     ]
    }
   ],
   "source": [
    "# 30 다음 객체를 customer_id 를 인덱스로하고 product_code 를 컬럼으로, purchare_amount 를 값으로, 재구성하시오\n",
    "df = pd.DataFrame({\"customer_id\":['kim','lee','park','song','yoon','kang','tak','ryu','jang'],\n",
    "               \"product_code\":['com','phone','tv','com','phone','tv','com','phone','tv'],\n",
    "               \"grade\":['A','A','A','A','A','A','B','B','B'],\n",
    "               \"purchase_amount\":[30,10,0,40,15,30,0,0,10]})\n",
    "ic(df)\n",
    "df = df.pivot(index=\"customer_id\", columns=\"product_code\", values=\"purchase_amount\")\n",
    "ic(df)"
   ],
   "metadata": {
    "collapsed": false,
    "pycharm": {
     "name": "#%%\n"
    }
   }
  },
  {
   "cell_type": "code",
   "execution_count": 7,
   "outputs": [
    {
     "name": "stderr",
     "output_type": "stream",
     "text": [
      "ic| df: product_code        com  phone    tv\n",
      "        customer_id grade                   \n",
      "        jang        B       NaN    NaN  10.0\n",
      "        kang        A       NaN    NaN  30.0\n",
      "        kim         A      30.0    NaN   NaN\n",
      "        lee         A       NaN   10.0   NaN\n",
      "        park        A       NaN    NaN   0.0\n",
      "        ryu         B       NaN    0.0   NaN\n",
      "        song        A      40.0    NaN   NaN\n",
      "        tak         B       0.0    NaN   NaN\n",
      "        yoon        A       NaN   15.0   NaN\n"
     ]
    },
    {
     "data": {
      "text/plain": "product_code        com  phone    tv\ncustomer_id grade                   \njang        B       NaN    NaN  10.0\nkang        A       NaN    NaN  30.0\nkim         A      30.0    NaN   NaN\nlee         A       NaN   10.0   NaN\npark        A       NaN    NaN   0.0\nryu         B       NaN    0.0   NaN\nsong        A      40.0    NaN   NaN\ntak         B       0.0    NaN   NaN\nyoon        A       NaN   15.0   NaN",
      "text/html": "<div>\n<style scoped>\n    .dataframe tbody tr th:only-of-type {\n        vertical-align: middle;\n    }\n\n    .dataframe tbody tr th {\n        vertical-align: top;\n    }\n\n    .dataframe thead th {\n        text-align: right;\n    }\n</style>\n<table border=\"1\" class=\"dataframe\">\n  <thead>\n    <tr style=\"text-align: right;\">\n      <th></th>\n      <th>product_code</th>\n      <th>com</th>\n      <th>phone</th>\n      <th>tv</th>\n    </tr>\n    <tr>\n      <th>customer_id</th>\n      <th>grade</th>\n      <th></th>\n      <th></th>\n      <th></th>\n    </tr>\n  </thead>\n  <tbody>\n    <tr>\n      <th>jang</th>\n      <th>B</th>\n      <td>NaN</td>\n      <td>NaN</td>\n      <td>10.0</td>\n    </tr>\n    <tr>\n      <th>kang</th>\n      <th>A</th>\n      <td>NaN</td>\n      <td>NaN</td>\n      <td>30.0</td>\n    </tr>\n    <tr>\n      <th>kim</th>\n      <th>A</th>\n      <td>30.0</td>\n      <td>NaN</td>\n      <td>NaN</td>\n    </tr>\n    <tr>\n      <th>lee</th>\n      <th>A</th>\n      <td>NaN</td>\n      <td>10.0</td>\n      <td>NaN</td>\n    </tr>\n    <tr>\n      <th>park</th>\n      <th>A</th>\n      <td>NaN</td>\n      <td>NaN</td>\n      <td>0.0</td>\n    </tr>\n    <tr>\n      <th>ryu</th>\n      <th>B</th>\n      <td>NaN</td>\n      <td>0.0</td>\n      <td>NaN</td>\n    </tr>\n    <tr>\n      <th>song</th>\n      <th>A</th>\n      <td>40.0</td>\n      <td>NaN</td>\n      <td>NaN</td>\n    </tr>\n    <tr>\n      <th>tak</th>\n      <th>B</th>\n      <td>0.0</td>\n      <td>NaN</td>\n      <td>NaN</td>\n    </tr>\n    <tr>\n      <th>yoon</th>\n      <th>A</th>\n      <td>NaN</td>\n      <td>15.0</td>\n      <td>NaN</td>\n    </tr>\n  </tbody>\n</table>\n</div>"
     },
     "execution_count": 7,
     "metadata": {},
     "output_type": "execute_result"
    }
   ],
   "source": [
    "# 31 다음 객체를 customer_id, grade 를 인덱스로하고 product_code 를 컬럼으로, purchare_amount 를 값으로, 재구성하시오\n",
    "\n",
    "df = pd.DataFrame({\"customer_id\":['kim','lee','park','song','yoon','kang','tak','ryu','jang'],\n",
    "               \"product_code\":['com','phone','tv','com','phone','tv','com','phone','tv'],\n",
    "               \"grade\":['A','A','A','A','A','A','B','B','B'],\n",
    "               \"purchase_amount\":[30,10,0,40,15,30,0,0,10]})\n",
    "df = df.pivot(index=[\"customer_id\",\"grade\"],  columns=\"product_code\", values=\"purchase_amount\")\n",
    "ic(df)"
   ],
   "metadata": {
    "collapsed": false,
    "pycharm": {
     "name": "#%%\n"
    }
   }
  },
  {
   "cell_type": "code",
   "execution_count": 27,
   "outputs": [
    {
     "name": "stderr",
     "output_type": "stream",
     "text": [
      "ic| df:           com  phone  tv  notebook\n",
      "        kim 2019    0      1   2         3\n",
      "            2020    4      5   6         7\n",
      "        lee 2019    8      9  10        11\n",
      "            2020   12     13  14        15\n",
      "ic| df: kim  2019  com          0\n",
      "                   phone        1\n",
      "                   tv           2\n",
      "                   notebook     3\n",
      "             2020  com          4\n",
      "                   phone        5\n",
      "                   tv           6\n",
      "                   notebook     7\n",
      "        lee  2019  com          8\n",
      "                   phone        9\n",
      "                   tv          10\n",
      "                   notebook    11\n",
      "             2020  com         12\n",
      "                   phone       13\n",
      "                   tv          14\n",
      "                   notebook    15\n",
      "        dtype: int32\n",
      "ic| df.unstack():      kim                   lee                   \n",
      "                       com phone tv notebook com phone  tv notebook\n",
      "                  2019   0     1  2        3   8     9  10       11\n",
      "                  2020   4     5  6        7  12    13  14       15\n",
      "ic| df:   customer_id      year  kim  lee\n",
      "        0        2019       com    0    8\n",
      "        1        2019     phone    1    9\n",
      "        2        2019        tv    2   10\n",
      "        3        2019  notebook    3   11\n",
      "        4        2020       com    4   12\n",
      "        5        2020     phone    5   13\n",
      "        6        2020        tv    6   14\n",
      "        7        2020  notebook    7   15\n"
     ]
    },
    {
     "data": {
      "text/plain": "  customer_id      year  kim  lee\n0        2019       com    0    8\n1        2019     phone    1    9\n2        2019        tv    2   10\n3        2019  notebook    3   11\n4        2020       com    4   12\n5        2020     phone    5   13\n6        2020        tv    6   14\n7        2020  notebook    7   15",
      "text/html": "<div>\n<style scoped>\n    .dataframe tbody tr th:only-of-type {\n        vertical-align: middle;\n    }\n\n    .dataframe tbody tr th {\n        vertical-align: top;\n    }\n\n    .dataframe thead th {\n        text-align: right;\n    }\n</style>\n<table border=\"1\" class=\"dataframe\">\n  <thead>\n    <tr style=\"text-align: right;\">\n      <th></th>\n      <th>customer_id</th>\n      <th>year</th>\n      <th>kim</th>\n      <th>lee</th>\n    </tr>\n  </thead>\n  <tbody>\n    <tr>\n      <th>0</th>\n      <td>2019</td>\n      <td>com</td>\n      <td>0</td>\n      <td>8</td>\n    </tr>\n    <tr>\n      <th>1</th>\n      <td>2019</td>\n      <td>phone</td>\n      <td>1</td>\n      <td>9</td>\n    </tr>\n    <tr>\n      <th>2</th>\n      <td>2019</td>\n      <td>tv</td>\n      <td>2</td>\n      <td>10</td>\n    </tr>\n    <tr>\n      <th>3</th>\n      <td>2019</td>\n      <td>notebook</td>\n      <td>3</td>\n      <td>11</td>\n    </tr>\n    <tr>\n      <th>4</th>\n      <td>2020</td>\n      <td>com</td>\n      <td>4</td>\n      <td>12</td>\n    </tr>\n    <tr>\n      <th>5</th>\n      <td>2020</td>\n      <td>phone</td>\n      <td>5</td>\n      <td>13</td>\n    </tr>\n    <tr>\n      <th>6</th>\n      <td>2020</td>\n      <td>tv</td>\n      <td>6</td>\n      <td>14</td>\n    </tr>\n    <tr>\n      <th>7</th>\n      <td>2020</td>\n      <td>notebook</td>\n      <td>7</td>\n      <td>15</td>\n    </tr>\n  </tbody>\n</table>\n</div>"
     },
     "execution_count": 27,
     "metadata": {},
     "output_type": "execute_result"
    }
   ],
   "source": [
    "# 32\n",
    "df = pd.DataFrame(np.arange(16).reshape(4,4),\n",
    "                index = pd.MultiIndex.from_tuples([('kim','2019'),('kim','2020'),('lee','2019'),('lee','2020')]),\n",
    "                columns = ['com','phone','tv','notebook'])\n",
    "ic(df)\n",
    "# ic(type(df.stack())) pandas.core.series.Series\n",
    "# 칼럼의 level은 1개 밖에 없으므로 stack(level=-1) 을 별도로 명기하지 않아도 됩니다.\n",
    "df = df.stack(level=-1, dropna=True)\n",
    "ic(df)\n",
    "df = df.unstack(level=0)\n",
    "ic(df.unstack())\n",
    "'''\n",
    "결측값이 있는 데이터셋을 stack() 할 때 결측값을 제거할지(dropna=True),\n",
    "아니면 결측값을 NaN으로 유지할지(dropna=False) 설정\n",
    "unstack(level=-1), unstack(level=0), unstack(level=1) 별로\n",
    "어떤 level이 칼럼으로 이동해서 unstack() 되는지 체크\n",
    "'''\n",
    "df = df.reset_index()\n",
    "df.rename(columns={'level_0':'customer_id','level_1':'year'}, inplace=True)\n",
    "ic(df)\n",
    "\n",
    "\n"
   ],
   "metadata": {
    "collapsed": false,
    "pycharm": {
     "name": "#%%\n"
    }
   }
  },
  {
   "cell_type": "code",
   "execution_count": 28,
   "outputs": [
    {
     "name": "stderr",
     "output_type": "stream",
     "text": [
      "ic| df:   customer_id product_code  purchase_count  purchase_amount\n",
      "        0         kim          com               1              100\n",
      "        1         kim        phone               2              200\n",
      "        2         lee           tv               3              300\n",
      "        3         lee          tab               4              400\n"
     ]
    },
    {
     "data": {
      "text/plain": "  customer_id product_code  purchase_count  purchase_amount\n0         kim          com               1              100\n1         kim        phone               2              200\n2         lee           tv               3              300\n3         lee          tab               4              400",
      "text/html": "<div>\n<style scoped>\n    .dataframe tbody tr th:only-of-type {\n        vertical-align: middle;\n    }\n\n    .dataframe tbody tr th {\n        vertical-align: top;\n    }\n\n    .dataframe thead th {\n        text-align: right;\n    }\n</style>\n<table border=\"1\" class=\"dataframe\">\n  <thead>\n    <tr style=\"text-align: right;\">\n      <th></th>\n      <th>customer_id</th>\n      <th>product_code</th>\n      <th>purchase_count</th>\n      <th>purchase_amount</th>\n    </tr>\n  </thead>\n  <tbody>\n    <tr>\n      <th>0</th>\n      <td>kim</td>\n      <td>com</td>\n      <td>1</td>\n      <td>100</td>\n    </tr>\n    <tr>\n      <th>1</th>\n      <td>kim</td>\n      <td>phone</td>\n      <td>2</td>\n      <td>200</td>\n    </tr>\n    <tr>\n      <th>2</th>\n      <td>lee</td>\n      <td>tv</td>\n      <td>3</td>\n      <td>300</td>\n    </tr>\n    <tr>\n      <th>3</th>\n      <td>lee</td>\n      <td>tab</td>\n      <td>4</td>\n      <td>400</td>\n    </tr>\n  </tbody>\n</table>\n</div>"
     },
     "execution_count": 28,
     "metadata": {},
     "output_type": "execute_result"
    }
   ],
   "source": [
    "'''\n",
    "melt() 는 ID 변수를 기준으로 원래 데이터셋에 있던 여러개의 칼럼 이름을\n",
    "'variable' 칼럼에 위에서 아래로 길게 쌓아놓고,\n",
    "'value' 칼럼에 ID와 variable에 해당하는 값을\n",
    "넣어주는 식으로 데이터를 재구조화\n",
    "'''\n",
    "df = pd.DataFrame({\"customer_id\":['kim','kim','lee','lee'],\n",
    "               \"product_code\":['com','phone','tv','tab'],\n",
    "               \"purchase_count\":[1,2,3,4],\n",
    "               \"purchase_amount\":[100,200,300,400]})\n",
    "ic(df)\n",
    "\n",
    "# (1) pd.melt(data, id_vars=['id1', 'id2', ...]) 를 사용한 데이터 재구조화\n",
    "\n",
    "\n",
    "# (2) pd.melt() 의 variable 이름, value 이름 부여하기 : var_name, value_name\n",
    "\n"
   ],
   "metadata": {
    "collapsed": false,
    "pycharm": {
     "name": "#%%\n"
    }
   }
  }
 ],
 "metadata": {
  "kernelspec": {
   "display_name": "Python 3",
   "language": "python",
   "name": "python3"
  },
  "language_info": {
   "codemirror_mode": {
    "name": "ipython",
    "version": 2
   },
   "file_extension": ".py",
   "mimetype": "text/x-python",
   "name": "python",
   "nbconvert_exporter": "python",
   "pygments_lexer": "ipython2",
   "version": "2.7.6"
  }
 },
 "nbformat": 4,
 "nbformat_minor": 0
}