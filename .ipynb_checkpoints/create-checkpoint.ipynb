{
 "cells": [
  {
   "cell_type": "code",
   "execution_count": 25,
   "metadata": {},
   "outputs": [],
   "source": [
    "import pandas as pd\n",
    "import numpy as np\n",
    "import random\n",
    "import string\n",
    "np.random.seed(56)"
   ]
  },
  {
   "cell_type": "code",
   "execution_count": 6,
   "metadata": {},
   "outputs": [
    {
     "data": {
      "text/html": [
       "<div>\n",
       "<style scoped>\n",
       "    .dataframe tbody tr th:only-of-type {\n",
       "        vertical-align: middle;\n",
       "    }\n",
       "\n",
       "    .dataframe tbody tr th {\n",
       "        vertical-align: top;\n",
       "    }\n",
       "\n",
       "    .dataframe thead th {\n",
       "        text-align: right;\n",
       "    }\n",
       "</style>\n",
       "<table border=\"1\" class=\"dataframe\">\n",
       "  <thead>\n",
       "    <tr style=\"text-align: right;\">\n",
       "      <th></th>\n",
       "      <th>a</th>\n",
       "      <th>b</th>\n",
       "      <th>c</th>\n",
       "    </tr>\n",
       "  </thead>\n",
       "  <tbody>\n",
       "    <tr>\n",
       "      <th>1</th>\n",
       "      <td>1</td>\n",
       "      <td>3</td>\n",
       "      <td>5</td>\n",
       "    </tr>\n",
       "    <tr>\n",
       "      <th>2</th>\n",
       "      <td>2</td>\n",
       "      <td>4</td>\n",
       "      <td>6</td>\n",
       "    </tr>\n",
       "  </tbody>\n",
       "</table>\n",
       "</div>"
      ],
      "text/plain": [
       "   a  b  c\n",
       "1  1  3  5\n",
       "2  2  4  6"
      ]
     },
     "execution_count": 6,
     "metadata": {},
     "output_type": "execute_result"
    }
   ],
   "source": [
    "pd.DataFrame({\"a\":[1,2], \"b\":[3,4],\"c\":[5,6]}, index=[1,2])"
   ]
  },
  {
   "cell_type": "code",
   "execution_count": 11,
   "metadata": {},
   "outputs": [
    {
     "data": {
      "text/html": [
       "<div>\n",
       "<style scoped>\n",
       "    .dataframe tbody tr th:only-of-type {\n",
       "        vertical-align: middle;\n",
       "    }\n",
       "\n",
       "    .dataframe tbody tr th {\n",
       "        vertical-align: top;\n",
       "    }\n",
       "\n",
       "    .dataframe thead th {\n",
       "        text-align: right;\n",
       "    }\n",
       "</style>\n",
       "<table border=\"1\" class=\"dataframe\">\n",
       "  <thead>\n",
       "    <tr style=\"text-align: right;\">\n",
       "      <th></th>\n",
       "      <th>A</th>\n",
       "      <th>B</th>\n",
       "      <th>C</th>\n",
       "    </tr>\n",
       "  </thead>\n",
       "  <tbody>\n",
       "    <tr>\n",
       "      <th>1</th>\n",
       "      <td>1</td>\n",
       "      <td>2</td>\n",
       "      <td>3</td>\n",
       "    </tr>\n",
       "    <tr>\n",
       "      <th>2</th>\n",
       "      <td>4</td>\n",
       "      <td>5</td>\n",
       "      <td>6</td>\n",
       "    </tr>\n",
       "    <tr>\n",
       "      <th>3</th>\n",
       "      <td>7</td>\n",
       "      <td>8</td>\n",
       "      <td>9</td>\n",
       "    </tr>\n",
       "    <tr>\n",
       "      <th>4</th>\n",
       "      <td>10</td>\n",
       "      <td>11</td>\n",
       "      <td>12</td>\n",
       "    </tr>\n",
       "  </tbody>\n",
       "</table>\n",
       "</div>"
      ],
      "text/plain": [
       "    A   B   C\n",
       "1   1   2   3\n",
       "2   4   5   6\n",
       "3   7   8   9\n",
       "4  10  11  12"
      ]
     },
     "execution_count": 11,
     "metadata": {},
     "output_type": "execute_result"
    }
   ],
   "source": [
    "pd.DataFrame([[1,2,3],[4,5,6],[7,8,9],[10,11,12]], index=range(1,5), columns=[\"A\",\"B\",\"C\"])"
   ]
  },
  {
   "cell_type": "code",
   "execution_count": 14,
   "metadata": {},
   "outputs": [
    {
     "data": {
      "text/plain": [
       "한국     서울\n",
       "일본     도쿄\n",
       "중국    베이징\n",
       "dtype: object"
      ]
     },
     "execution_count": 14,
     "metadata": {},
     "output_type": "execute_result"
    }
   ],
   "source": [
    "pd.Series({\"한국\":\"서울\",\"일본\":\"도쿄\",\"중국\":\"베이징\"})"
   ]
  },
  {
   "cell_type": "code",
   "execution_count": 18,
   "metadata": {},
   "outputs": [
    {
     "data": {
      "text/html": [
       "<div>\n",
       "<style scoped>\n",
       "    .dataframe tbody tr th:only-of-type {\n",
       "        vertical-align: middle;\n",
       "    }\n",
       "\n",
       "    .dataframe tbody tr th {\n",
       "        vertical-align: top;\n",
       "    }\n",
       "\n",
       "    .dataframe thead th {\n",
       "        text-align: right;\n",
       "    }\n",
       "</style>\n",
       "<table border=\"1\" class=\"dataframe\">\n",
       "  <thead>\n",
       "    <tr style=\"text-align: right;\">\n",
       "      <th></th>\n",
       "      <th>0</th>\n",
       "      <th>1</th>\n",
       "      <th>2</th>\n",
       "    </tr>\n",
       "  </thead>\n",
       "  <tbody>\n",
       "    <tr>\n",
       "      <th>0</th>\n",
       "      <td>85</td>\n",
       "      <td>15</td>\n",
       "      <td>64</td>\n",
       "    </tr>\n",
       "    <tr>\n",
       "      <th>1</th>\n",
       "      <td>34</td>\n",
       "      <td>14</td>\n",
       "      <td>87</td>\n",
       "    </tr>\n",
       "  </tbody>\n",
       "</table>\n",
       "</div>"
      ],
      "text/plain": [
       "    0   1   2\n",
       "0  85  15  64\n",
       "1  34  14  87"
      ]
     },
     "execution_count": 18,
     "metadata": {},
     "output_type": "execute_result"
    }
   ],
   "source": [
    "pd.DataFrame(np.random.randint(0, 100, size=(2, 3)))"
   ]
  },
  {
   "cell_type": "code",
   "execution_count": 36,
   "metadata": {},
   "outputs": [],
   "source": [
    "def id():\n",
    "    return ''.join(random.choice(string.ascii_letters) for i in range(5))"
   ]
  },
  {
   "cell_type": "code",
   "execution_count": 37,
   "metadata": {},
   "outputs": [
    {
     "data": {
      "text/plain": [
       "'hsFqb'"
      ]
     },
     "execution_count": 37,
     "metadata": {},
     "output_type": "execute_result"
    }
   ],
   "source": [
    "id()"
   ]
  },
  {
   "cell_type": "code",
   "execution_count": 32,
   "metadata": {},
   "outputs": [],
   "source": [
    "def score():\n",
    "    return np.random.randint(0, 100)"
   ]
  },
  {
   "cell_type": "code",
   "execution_count": 33,
   "metadata": {},
   "outputs": [
    {
     "data": {
      "text/plain": [
       "64"
      ]
     },
     "execution_count": 33,
     "metadata": {},
     "output_type": "execute_result"
    }
   ],
   "source": [
    "score()"
   ]
  },
  {
   "cell_type": "code",
   "execution_count": 53,
   "metadata": {},
   "outputs": [
    {
     "data": {
      "text/html": [
       "<div>\n",
       "<style scoped>\n",
       "    .dataframe tbody tr th:only-of-type {\n",
       "        vertical-align: middle;\n",
       "    }\n",
       "\n",
       "    .dataframe tbody tr th {\n",
       "        vertical-align: top;\n",
       "    }\n",
       "\n",
       "    .dataframe thead th {\n",
       "        text-align: right;\n",
       "    }\n",
       "</style>\n",
       "<table border=\"1\" class=\"dataframe\">\n",
       "  <thead>\n",
       "    <tr style=\"text-align: right;\">\n",
       "      <th></th>\n",
       "      <th>국어</th>\n",
       "      <th>영어</th>\n",
       "      <th>수학</th>\n",
       "      <th>사회</th>\n",
       "    </tr>\n",
       "  </thead>\n",
       "  <tbody>\n",
       "    <tr>\n",
       "      <th>uTkrf</th>\n",
       "      <td>[23, 22, 48, 83]</td>\n",
       "      <td>[52, 39, 50, 20]</td>\n",
       "      <td>[5, 48, 55, 90]</td>\n",
       "      <td>[49, 97, 56, 54]</td>\n",
       "    </tr>\n",
       "    <tr>\n",
       "      <th>qBOuu</th>\n",
       "      <td>[23, 22, 48, 83]</td>\n",
       "      <td>[52, 39, 50, 20]</td>\n",
       "      <td>[5, 48, 55, 90]</td>\n",
       "      <td>[49, 97, 56, 54]</td>\n",
       "    </tr>\n",
       "    <tr>\n",
       "      <th>GbALk</th>\n",
       "      <td>[23, 22, 48, 83]</td>\n",
       "      <td>[52, 39, 50, 20]</td>\n",
       "      <td>[5, 48, 55, 90]</td>\n",
       "      <td>[49, 97, 56, 54]</td>\n",
       "    </tr>\n",
       "    <tr>\n",
       "      <th>sYDZc</th>\n",
       "      <td>[23, 22, 48, 83]</td>\n",
       "      <td>[52, 39, 50, 20]</td>\n",
       "      <td>[5, 48, 55, 90]</td>\n",
       "      <td>[49, 97, 56, 54]</td>\n",
       "    </tr>\n",
       "    <tr>\n",
       "      <th>uwqPE</th>\n",
       "      <td>[23, 22, 48, 83]</td>\n",
       "      <td>[52, 39, 50, 20]</td>\n",
       "      <td>[5, 48, 55, 90]</td>\n",
       "      <td>[49, 97, 56, 54]</td>\n",
       "    </tr>\n",
       "    <tr>\n",
       "      <th>yFqxj</th>\n",
       "      <td>[23, 22, 48, 83]</td>\n",
       "      <td>[52, 39, 50, 20]</td>\n",
       "      <td>[5, 48, 55, 90]</td>\n",
       "      <td>[49, 97, 56, 54]</td>\n",
       "    </tr>\n",
       "    <tr>\n",
       "      <th>sYFNn</th>\n",
       "      <td>[23, 22, 48, 83]</td>\n",
       "      <td>[52, 39, 50, 20]</td>\n",
       "      <td>[5, 48, 55, 90]</td>\n",
       "      <td>[49, 97, 56, 54]</td>\n",
       "    </tr>\n",
       "    <tr>\n",
       "      <th>xhSrO</th>\n",
       "      <td>[23, 22, 48, 83]</td>\n",
       "      <td>[52, 39, 50, 20]</td>\n",
       "      <td>[5, 48, 55, 90]</td>\n",
       "      <td>[49, 97, 56, 54]</td>\n",
       "    </tr>\n",
       "    <tr>\n",
       "      <th>UgkBM</th>\n",
       "      <td>[23, 22, 48, 83]</td>\n",
       "      <td>[52, 39, 50, 20]</td>\n",
       "      <td>[5, 48, 55, 90]</td>\n",
       "      <td>[49, 97, 56, 54]</td>\n",
       "    </tr>\n",
       "    <tr>\n",
       "      <th>vldki</th>\n",
       "      <td>[23, 22, 48, 83]</td>\n",
       "      <td>[52, 39, 50, 20]</td>\n",
       "      <td>[5, 48, 55, 90]</td>\n",
       "      <td>[49, 97, 56, 54]</td>\n",
       "    </tr>\n",
       "  </tbody>\n",
       "</table>\n",
       "</div>"
      ],
      "text/plain": [
       "                     국어                영어               수학                사회\n",
       "uTkrf  [23, 22, 48, 83]  [52, 39, 50, 20]  [5, 48, 55, 90]  [49, 97, 56, 54]\n",
       "qBOuu  [23, 22, 48, 83]  [52, 39, 50, 20]  [5, 48, 55, 90]  [49, 97, 56, 54]\n",
       "GbALk  [23, 22, 48, 83]  [52, 39, 50, 20]  [5, 48, 55, 90]  [49, 97, 56, 54]\n",
       "sYDZc  [23, 22, 48, 83]  [52, 39, 50, 20]  [5, 48, 55, 90]  [49, 97, 56, 54]\n",
       "uwqPE  [23, 22, 48, 83]  [52, 39, 50, 20]  [5, 48, 55, 90]  [49, 97, 56, 54]\n",
       "yFqxj  [23, 22, 48, 83]  [52, 39, 50, 20]  [5, 48, 55, 90]  [49, 97, 56, 54]\n",
       "sYFNn  [23, 22, 48, 83]  [52, 39, 50, 20]  [5, 48, 55, 90]  [49, 97, 56, 54]\n",
       "xhSrO  [23, 22, 48, 83]  [52, 39, 50, 20]  [5, 48, 55, 90]  [49, 97, 56, 54]\n",
       "UgkBM  [23, 22, 48, 83]  [52, 39, 50, 20]  [5, 48, 55, 90]  [49, 97, 56, 54]\n",
       "vldki  [23, 22, 48, 83]  [52, 39, 50, 20]  [5, 48, 55, 90]  [49, 97, 56, 54]"
      ]
     },
     "execution_count": 53,
     "metadata": {},
     "output_type": "execute_result"
    }
   ],
   "source": [
    "pd.DataFrame([[score() for i in range(1,5)]], index=[id() for i in range(1, 11)], columns=['국어','영어','수학','사회'])"
   ]
  },
  {
   "cell_type": "code",
   "execution_count": null,
   "metadata": {},
   "outputs": [],
   "source": []
  }
 ],
 "metadata": {
  "kernelspec": {
   "display_name": "Python 3",
   "language": "python",
   "name": "python3"
  },
  "language_info": {
   "codemirror_mode": {
    "name": "ipython",
    "version": 3
   },
   "file_extension": ".py",
   "mimetype": "text/x-python",
   "name": "python",
   "nbconvert_exporter": "python",
   "pygments_lexer": "ipython3",
   "version": "3.8.5"
  }
 },
 "nbformat": 4,
 "nbformat_minor": 4
}
